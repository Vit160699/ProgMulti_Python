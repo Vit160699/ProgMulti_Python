{
 "cells": [
  {
   "cell_type": "markdown",
   "metadata": {},
   "source": [
    "# LISTA DE PYTHON\n",
    "## Victor Baptista Silva - RA: 81712259"
   ]
  },
  {
   "cell_type": "markdown",
   "metadata": {},
   "source": [
    "### Lista de Exercícios 02"
   ]
  },
  {
   "cell_type": "markdown",
   "metadata": {},
   "source": [
    "#### 1. Faça um Programa que peça dois números e imprima o maior deles."
   ]
  },
  {
   "cell_type": "code",
   "execution_count": 1,
   "metadata": {},
   "outputs": [
    {
     "name": "stdout",
     "output_type": "stream",
     "text": [
      "Digite um numero: 5\n",
      "Digite outro numero: 4\n",
      "O maior é: 5\n"
     ]
    }
   ],
   "source": [
    "num1 = int(input(\"Digite um numero: \"))\n",
    "num2 = int(input(\"Digite outro numero: \"))\n",
    "\n",
    "if(num1 > num2):\n",
    "    print(\"O maior é:\", num1)\n",
    "else:\n",
    "    print(\"O maior é:\", num2)"
   ]
  },
  {
   "cell_type": "markdown",
   "metadata": {},
   "source": [
    "#### 2. Faça um Programa que verifique se uma letra digitada é vogal ou consoante."
   ]
  },
  {
   "cell_type": "code",
   "execution_count": 2,
   "metadata": {},
   "outputs": [
    {
     "name": "stdout",
     "output_type": "stream",
     "text": [
      "Digite uma letrac\n",
      "A letra c é uma consoante!\n"
     ]
    }
   ],
   "source": [
    "letra = input(\"Digite uma letra\")\n",
    "\n",
    "if(letra == \"a\" or letra == 'e' or letra == 'i'or letra == 'o' or letra == 'u'):\n",
    "    print(\"A letra \" + letra + \" é uma vogal!\")\n",
    "else:\n",
    "    print(\"A letra \" + letra + \" é uma consoante!\")"
   ]
  },
  {
   "cell_type": "markdown",
   "metadata": {},
   "source": [
    "#### 3. Faça um programa para a leitura de duas notas parciais de um aluno. O programa deve calcular a média alcançada por aluno e apresentar:\n",
    "- A mensagem \"Aprovado\", se a média alcançada for maior ou igual a sete;\n",
    "- A mensagem \"Reprovado\", se a média for menor do que sete;\n",
    "- A mensagem \"Aprovado com Distinção\", se a média for igual a dez."
   ]
  },
  {
   "cell_type": "code",
   "execution_count": 3,
   "metadata": {},
   "outputs": [
    {
     "name": "stdout",
     "output_type": "stream",
     "text": [
      "Digite a nota primeira nota do aluno: 1\n",
      "Digite a nota segunda nota do aluno: 5\n",
      "Reprovado!\n"
     ]
    }
   ],
   "source": [
    "nota1 = int(input(\"Digite a primeira nota do aluno: \"))\n",
    "nota2 = int(input(\"Digite a segunda nota do aluno: \"))\n",
    "\n",
    "mediaNota = (nota1 + nota2) / 2\n",
    "\n",
    "if(mediaNota == 10):\n",
    "    print(\"Aprovado com Distinção!\")\n",
    "elif(mediaNota < 7):\n",
    "    print(\"Reprovado!\")\n",
    "elif(mediaNota >= 7):\n",
    "    print(\"Aprovado!\")"
   ]
  },
  {
   "cell_type": "markdown",
   "metadata": {},
   "source": [
    "#### 4. Faça um Programa que leia três números e mostre-os em ordem decrescente."
   ]
  },
  {
   "cell_type": "code",
   "execution_count": 4,
   "metadata": {},
   "outputs": [
    {
     "name": "stdout",
     "output_type": "stream",
     "text": [
      "Digite um numero: 10\n",
      "Digite um numero: 9999999999\n",
      "Digite um numero: 0\n",
      "[0, 10, 9999999999]\n"
     ]
    }
   ],
   "source": [
    "numero1 = int(input(\"Digite um numero: \"))\n",
    "numero2 = int(input(\"Digite um numero: \"))\n",
    "numero3 = int(input(\"Digite um numero: \"))\n",
    "\n",
    "lista = (numero1,numero2,numero3)\n",
    "\n",
    "listaOrdenada = sorted(lista)\n",
    "\n",
    "print(listaOrdenada)"
   ]
  },
  {
   "cell_type": "markdown",
   "metadata": {},
   "source": [
    "#### 5. As Organizações Tabajara resolveram dar um aumento de salário aos seus colaboradores e lhe contrataram para desenvolver o programa que calculará os reajustes. Faça um programa que recebe o salário de um colaborador e o reajuste segundo o seguinte critério, baseado no salário atual:\n",
    "\n",
    "- salários até R$ 280,00 (incluindo) : aumento de 20%\n",
    "- salários entre R$ 280,00 e R$ 700,00 : aumento de 15%\n",
    "- salários entre R$ 700,00 e R$ 1500,00 : aumento de 10%\n",
    "- salários de R$ 1500,00 em diante : aumento de 5% Após o aumento ser realizado,\n",
    "  informe na tela:\n",
    "- o salário antes do reajuste;\n",
    "- o percentual de aumento aplicado;\n",
    "- o valor do aumento;\n",
    "- o novo salário, após o aumento."
   ]
  },
  {
   "cell_type": "code",
   "execution_count": 5,
   "metadata": {},
   "outputs": [
    {
     "name": "stdout",
     "output_type": "stream",
     "text": [
      "Digite o seu salario: 10000\n",
      "Salário antes do reajuste: R$ 10000.0\n",
      "Porcentagem do reajuste: 5%\n",
      "Valor do aumento: R$ 500.0\n",
      "Salário reajustado: R$ 10500.0\n"
     ]
    }
   ],
   "source": [
    "salario = float(input(\"Digite o seu salario: \"))\n",
    "\n",
    "if salario <= 280:\n",
    "    salarior = ((salario/100)*20) + salario\n",
    "    reajp = '20%'\n",
    "    reajv = (salario/100)*20\n",
    "elif salario > 280 and salario <= 700:\n",
    "    salarior = salario + (salario/100)*15\n",
    "    reajp = '15%'\n",
    "    reajv = (salario/100)*15\n",
    "elif salario > 700 and salario <= 1500:\n",
    "    salarior = salario + (salario/100)*10\n",
    "    reajp = '10%'\n",
    "    reajv = (salario/100)*10\n",
    "else:\n",
    "    salarior = salario + (salario/100)*5\n",
    "    reajp = '5%'\n",
    "    reajv = (salario/100)*5\n",
    "\n",
    "print (\"Salário antes do reajuste: R$\", salario)\n",
    "print (\"Porcentagem do reajuste:\", reajp)\n",
    "print (\"Valor do aumento: R$\", reajv)\n",
    "print (\"Salário reajustado: R$\", salarior)"
   ]
  },
  {
   "cell_type": "markdown",
   "metadata": {},
   "source": [
    "#### 6. Faça um Programa que leia um número e exiba o dia correspondente da semana. (1-Domingo, 2- Segunda, etc.), se digitar outro valor deve aparecer valor inválido. "
   ]
  },
  {
   "cell_type": "code",
   "execution_count": 6,
   "metadata": {},
   "outputs": [
    {
     "name": "stdout",
     "output_type": "stream",
     "text": [
      "Digite um numero inteiro: 5\n",
      "Quinta\n"
     ]
    }
   ],
   "source": [
    "num = int(input(\"Digite um numero inteiro: \"))\n",
    "\n",
    "if num == 1:\n",
    "    print(\"Domingo\")\n",
    "elif num == 2:\n",
    "    print(\"Segunda\")\n",
    "elif num == 3:\n",
    "    print(\"Terça\")\n",
    "elif num == 4:\n",
    "    print(\"Quarta\")\n",
    "elif num == 5:\n",
    "    print(\"Quinta\")\n",
    "elif num == 6:\n",
    "    print(\"Sexta\")\n",
    "elif num == 7:\n",
    "    print(\"Sabádo\")\n",
    "else:\n",
    "    print(\"Digite um numero valido.\")"
   ]
  },
  {
   "cell_type": "markdown",
   "metadata": {},
   "source": [
    "#### 7. Faça um programa que lê as duas notas parciais obtidas por um aluno numa disciplina ao longo de um semestre, e calcule a sua média. A atribuição de conceitos obedece à tabela abaixo:   Média de Aproveitamento  Conceito   Entre 9.0 e 10.0        A   Entre 7.5 e 9.0         B   Entre 6.0 e 7.5         C   Entre 4.0 e 6.0         D   Entre 4.0 e zero        E O algoritmo deve mostrar na tela as notas, a média, o conceito correspondente e a mensagem “APROVADO” se o conceito for A, B ou C ou “REPROVADO” se o conceito for D ou E. "
   ]
  },
  {
   "cell_type": "code",
   "execution_count": 7,
   "metadata": {},
   "outputs": [
    {
     "name": "stdout",
     "output_type": "stream",
     "text": [
      "Digite a nota 1 do aluno: 9\n",
      "Digite a nota 2 do aluno: 0\n",
      "Primeira nota: 9.0\n",
      "Segunda nota: 0.0\n",
      "Média: 4.5\n",
      "D - REPROVADO\n"
     ]
    }
   ],
   "source": [
    "nota1 = float(input(\"Digite a nota 1 do aluno: \"))\n",
    "nota2 = float(input(\"Digite a nota 2 do aluno: \"))\n",
    "\n",
    "mediaNota = (nota1 + nota2) / 2\n",
    "\n",
    "if mediaNota <= 10.0 and mediaNota >= 9.0:\n",
    "    print(\"Primeira nota:\", nota1)\n",
    "    print(\"Segunda nota:\", nota2)\n",
    "    print(\"Média:\", mediaNota)\n",
    "    print(\"A - APROVADO\")\n",
    "    \n",
    "elif mediaNota < 9.0 and mediaNota >= 7.5:\n",
    "    print(\"Primeira nota:\", nota1)\n",
    "    print(\"Segunda nota:\", nota2)\n",
    "    print(\"Média:\", mediaNota)\n",
    "    print(\"B - APROVADO\")\n",
    "    \n",
    "elif mediaNota < 7.5 and mediaNota >= 6.0:\n",
    "    print(\"Primeira nota:\", nota1)\n",
    "    print(\"Segunda nota:\", nota2)\n",
    "    print(\"Média:\", mediaNota)\n",
    "    print(\"C - APROVADO\")\n",
    "    \n",
    "elif mediaNota < 6.0 and mediaNota >= 4.0:\n",
    "    print(\"Primeira nota:\", nota1)\n",
    "    print(\"Segunda nota:\", nota2)\n",
    "    print(\"Média:\", mediaNota)\n",
    "    print(\"D - REPROVADO\")\n",
    "    \n",
    "elif mediaNota < 4.0 and mediaNota >= 0:\n",
    "    print(\"Primeira nota:\", nota1)\n",
    "    print(\"Segunda nota:\", nota2)\n",
    "    print(\"Média:\", mediaNota)\n",
    "    print(\"E - REPROVADO\")"
   ]
  },
  {
   "cell_type": "markdown",
   "metadata": {},
   "source": [
    "#### 8. Faça um Programa que peça os 3 lados de um triângulo. O programa deverá informar se os valores podem ser um triângulo. Indique, caso os lados formem um triângulo, se o mesmo é: equilátero, isósceles ou escaleno. Dicas: - Três lados formam um triângulo quando a soma de quaisquer dois lados for maior que o terceiro; - Triângulo Equilátero: três lados iguais; - Triângulo Isósceles: quaisquer dois lados iguais; - Triângulo Escaleno: três lados diferentes; "
   ]
  },
  {
   "cell_type": "code",
   "execution_count": 8,
   "metadata": {},
   "outputs": [
    {
     "name": "stdout",
     "output_type": "stream",
     "text": [
      "Digite o tamanho do primeiro lado: 1\n",
      "Digite o tamanho do segundo lado: 2\n",
      "Digite o tamanho do terceiro lado: 3\n",
      "Não é um triângulo\n"
     ]
    }
   ],
   "source": [
    "lado1 = int(input(\"Digite o tamanho do primeiro lado: \"))\n",
    "lado2 = int(input(\"Digite o tamanho do segundo lado: \"))\n",
    "lado3 = int(input(\"Digite o tamanho do terceiro lado: \"))\n",
    "\n",
    "if lado1 + lado2 > lado3:\n",
    "    if lado1 == lado2 and lado1 == lado3:\n",
    "        print(\"Triângulo Equilátero\")\n",
    "    elif lado1 == lado2 or lado2 == lado3 or lado1 == lado3:\n",
    "        print (\"Triângulo Isósceles\")\n",
    "    elif lado1 != lado2 and lado3 or lado2 != lado1 and lado3 or lado1 != lado3:\n",
    "        print (\"Triângulo Escaleno\")\n",
    "\n",
    "else:\n",
    "    print (\"Não é um triângulo\")"
   ]
  },
  {
   "cell_type": "markdown",
   "metadata": {},
   "source": [
    "#### 9. Faça um programa que calcule as raízes de uma equação do segundo grau, na forma ax2 + bx + c. O programa deverá pedir os valores de a, b e c e fazer as consistências, informando ao usuário nas seguintes situações: - Se o usuário informar o valor de A igual a zero, a equação não é do segundo grau e o programa não deve fazer pedir os demais valores, sendo encerrado; - Se o delta calculado for negativo, a equação não possui raizes reais. Informe ao usuário e encerre o programa; - Se o delta calculado for igual a zero a equação possui apenas uma raiz real; informe-a ao usuário; - Se o delta for positivo, a equação possui duas raiz reais; informe-as ao usuário; "
   ]
  },
  {
   "cell_type": "code",
   "execution_count": 9,
   "metadata": {
    "scrolled": false
   },
   "outputs": [
    {
     "name": "stdout",
     "output_type": "stream",
     "text": [
      "Digite o valor de a: 2\n",
      "Digite o valor de b: 3\n",
      "Digite o valor de c: 4\n",
      "A equação não possui raizes reais pois o delta resulta em -23\n"
     ]
    }
   ],
   "source": [
    "a = int(input(\"Digite o valor de a: \"))\n",
    "\n",
    "if a == 0:\n",
    "    print(\"A equação não é do segundo grau\")\n",
    "else:\n",
    "    b = int(input(\"Digite o valor de b: \"))\n",
    "    c = int(input(\"Digite o valor de c: \"))\n",
    "    delta = (b**2)-(4*a*c)\n",
    "    \n",
    "    if delta <0:\n",
    "        print(f\"A equação não possui raizes reais pois o delta resulta em\", delta )\n",
    "    elif delta == 0:\n",
    "        print(f\"A equação resulta em delta\", delta,\"e possui apenas uma raiz real\")\n",
    "    elif delta > 0:\n",
    "        print(f\"A equação resulta em delta\", delta,\"e possui duas raizes reais\")"
   ]
  },
  {
   "cell_type": "markdown",
   "metadata": {},
   "source": [
    "#### 10. Faça um Programa para um caixa eletrônico. O programa deverá perguntar ao usuário a valor do saque e depois informar quantas notas de cada valor serão fornecidas. As notas disponíveis serão as de 1, 5, 10, 50 e 100 reais. O valor mínimo é de 10 reais e o máximo de 600 reais. O programa não deve se preocupar com a quantidade de notas existentes na máquina. - Exemplo 1: Para sacar a quantia de 256 reais, o programa fornece duas notas de 100, uma nota de 50, uma nota de 5 e uma nota de 1; - Exemplo 2: Para sacar a quantia de 399 reais, o programa fornece três notas de 100, uma nota de 50, quatro notas de 10, uma nota de 5 e quatro notas de 1. "
   ]
  },
  {
   "cell_type": "code",
   "execution_count": 10,
   "metadata": {},
   "outputs": [
    {
     "name": "stdout",
     "output_type": "stream",
     "text": [
      "Digite o valor do saque: 1000\n",
      "Valor invalido! \n",
      "Valor maximo para saque: R$ 600,00 \n",
      "Valor minimo para saque: R$ 10,00\n",
      "\n",
      "Digite o valor do saque: 10\n",
      "Notas utilizadas:  \n",
      "Notas de 100:  0 \n",
      "Notas de 50:  0 \n",
      "Notas de 10:  1 \n",
      "Notas de 5:  0 \n",
      "Notas de 1:  0\n"
     ]
    }
   ],
   "source": [
    "while True:\n",
    "    try:\n",
    "        valorSaque = int(input(\"Digite o valor do saque: \"))\n",
    "        if (valorSaque > 600 or valorSaque < 10):\n",
    "            raise ValueError(\"Valor escolhido\", valorSaque)\n",
    "    except ValueError as e:\n",
    "        print(\"Valor invalido! \\nValor maximo para saque: R$ 600,00 \\nValor minimo para saque: R$ 10,00\\n\")\n",
    "    else:\n",
    "        break\n",
    "\n",
    "totalSaque = valorSaque\n",
    "cont100 = 0\n",
    "cont50 = 0\n",
    "cont10 = 0\n",
    "cont5 = 0\n",
    "cont1 = 0\n",
    "        \n",
    "while(totalSaque > 0):\n",
    "    if(totalSaque >= 100):\n",
    "        totalSaque -=100\n",
    "        cont100 += 1\n",
    "    elif(totalSaque < 100 and totalSaque >= 50):\n",
    "        totalSaque -= 50\n",
    "        cont50 += 1\n",
    "    elif(totalSaque < 50 and totalSaque >= 10):\n",
    "        totalSaque -= 10\n",
    "        cont10 += 1\n",
    "    elif(totalSaque < 10 and totalSaque >= 5):\n",
    "        totalSaque -= 5\n",
    "        cont5 += 1\n",
    "    elif(totalSaque < 5 and totalSaque >= 1):\n",
    "        totalSaque -= 1\n",
    "        cont1 += 1\n",
    "        \n",
    "    if(totalSaque <= 0):\n",
    "        print(\"Notas utilizadas: \", \"\\nNotas de 100: \", cont100, \"\\nNotas de 50: \" , cont50, \"\\nNotas de 10: \" , cont10,\n",
    "              \"\\nNotas de 5: \" ,cont5, \"\\nNotas de 1: \" , cont1)"
   ]
  },
  {
   "cell_type": "markdown",
   "metadata": {},
   "source": [
    "#### 11. Faça um programa que faça 5 perguntas para uma pessoa sobre um crime. As perguntas são: \"Telefonou para a vítima?\" \"Esteve no local do crime?\" \"Mora perto da vítima?\" \"Devia para a vítima?\" \"Já trabalhou com a vítima?\"  O programa deve no final emitir uma classificação sobre a participação da pessoa no crime. Se a pessoa responder positivamente a 2 questões ela deve ser classificada como \"Suspeita\", entre 3 e 4 como \"Cúmplice\" e 5 como \"Assassino\". Caso contrário, ele será classificado como \"Inocente\". "
   ]
  },
  {
   "cell_type": "code",
   "execution_count": 11,
   "metadata": {},
   "outputs": [
    {
     "name": "stdout",
     "output_type": "stream",
     "text": [
      "Telefonou para a vitima? sim\n",
      "Esteve no local do crime? n\n",
      "Mora perto da vítima? sim\n",
      "Devia para a vítima? sim\n",
      "Já trabalhou com a vítima? sim\n",
      "A pessoa interrogada é cúmplice!\n"
     ]
    }
   ],
   "source": [
    "pergunta1 = input(\"Telefonou para a vitima? \")\n",
    "pergunta2 = input(\"Esteve no local do crime? \")\n",
    "pergunta3 = input(\"Mora perto da vítima? \")\n",
    "pergunta4 = input(\"Devia para a vítima? \")\n",
    "pergunta5 = input(\"Já trabalhou com a vítima? \")\n",
    "    \n",
    "\n",
    "lista = [pergunta1,pergunta2,pergunta3,pergunta4,pergunta5]\n",
    "resultado = lista.count(\"sim\") or lista.count(\"SIM\") \n",
    "if resultado == 2:\n",
    "    print(\"A pessoa interrogada é suspeita!\")\n",
    "elif resultado == 3 or resultado == 4:\n",
    "    print(\"A pessoa interrogada é cúmplice!\") \n",
    "elif resultado == 5:\n",
    "    print(\"A pessoa interrogada é o assassino!\")\n",
    "else:\n",
    "    print(\"A pessoa interrogada é inocente!\")"
   ]
  },
  {
   "cell_type": "markdown",
   "metadata": {},
   "source": [
    "12. Uma fruteira está vendendo frutas com a seguinte tabela de preços: \n",
    "                       Até 5 Kg           Acima de 5 Kg Morango         R$ 2,50 por Kg          R$ 2,20 por Kg Maçã            R$ 1,80 por Kg          R$ 1,50 por Kg \n",
    " \n",
    "Se o cliente comprar mais de 8 Kg em frutas ou o valor total da compra ultrapassar R$ 25,00, receberá ainda um desconto de 10% sobre este total. Escreva um algoritmo para ler a quantidade (em Kg) de morangos e a quantidade (em Kg) de maças adquiridas e escreva o valor a ser pago pelo cliente. "
   ]
  },
  {
   "cell_type": "code",
   "execution_count": 12,
   "metadata": {},
   "outputs": [
    {
     "name": "stdout",
     "output_type": "stream",
     "text": [
      "Digite a quantidade de morangos comprados: 99\n",
      "Digite a quantidade de maçãs compradas: 1\n",
      "197.64000000000001\n"
     ]
    }
   ],
   "source": [
    "qntMorango = float(input(\"Digite a quantidade de morangos comprados: \"))\n",
    "qntMaca = float(input(\"Digite a quantidade de maçãs compradas: \"))\n",
    "somaFrutas = qntMorango + qntMaca\n",
    "\n",
    "if qntMorango <= 5:\n",
    "    totalMorango = (qntMorango * 2.5)\n",
    "elif qntMorango > 5:\n",
    "    totalMorango = (qntMorango * 2.2)\n",
    "\n",
    "if qntMaca <= 5:\n",
    "    totalMaca = (qntMaca * 1.8)\n",
    "elif qntMaca > 5:\n",
    "    totalMaca = (qntMaca * 1.5)\n",
    "    \n",
    "totalPagamento = totalMorango + totalMaca\n",
    "\n",
    "if somaFrutas > 8 or totalPagamento > 25:\n",
    "    totalPagamento = totalPagamento - (totalPagamento * 0.10)\n",
    "    print(totalPagamento)\n",
    "else:\n",
    "    print(totalPagamento)"
   ]
  },
  {
   "cell_type": "markdown",
   "metadata": {},
   "source": [
    "13. Faça um programa que peça uma nota, entre zero e dez. Mostre uma mensagem caso o valor seja inválido e continue pedindo até que o usuário informe um valor válido."
   ]
  },
  {
   "cell_type": "code",
   "execution_count": 14,
   "metadata": {},
   "outputs": [
    {
     "name": "stdout",
     "output_type": "stream",
     "text": [
      "Digite uma nota: 11\n",
      "O número 11 está fora do intervalo!\n",
      "Digite uma nota: -5\n",
      "O número -5 está fora do intervalo!\n",
      "Digite uma nota: 5\n",
      "O numero 5 está dentro do intervalo.\n"
     ]
    }
   ],
   "source": [
    "while True:\n",
    "    nota = int(input(\"Digite uma nota: \"))\n",
    "    if nota >= 0 and nota <= 10:\n",
    "        print(\"O numero\", nota, \"está dentro do intervalo.\")\n",
    "        break\n",
    "    else:\n",
    "        print(\"O número\", nota,\"está fora do intervalo!\")\n",
    "\n"
   ]
  },
  {
   "cell_type": "markdown",
   "metadata": {},
   "source": [
    "#### 13. Faça um programa que leia e valide as seguintes informações: Nome: maior que 3 caracteres; Idade: entre 0 e 150;  Salário: maior que zero; Sexo: 'f' ou 'm'; Estado Civil: 's', 'c', 'v', 'd'; "
   ]
  },
  {
   "cell_type": "code",
   "execution_count": 15,
   "metadata": {},
   "outputs": [
    {
     "name": "stdout",
     "output_type": "stream",
     "text": [
      "Digite seu nome: victor\n",
      "Nome valido! victor\n",
      "Digite sua idade: 19\n",
      "Idade valida! 19\n",
      "Digite seu salario: 1000\n",
      "Salario valido! 1000.0\n",
      "Digite seu sexo: m\n",
      "Sexo valido! m\n",
      "Digite seu estado civil: s\n",
      "Estado civil valido! s\n"
     ]
    }
   ],
   "source": [
    "while True:\n",
    "    nome = input(\"Digite seu nome: \")\n",
    "    if len(nome) <= 3:\n",
    "        print(\"Nome invalido!\", nome, \"possui 3 ou menos caracteres\")\n",
    "    else:\n",
    "        print(\"Nome valido!\", nome)\n",
    "        break\n",
    "\n",
    "while True:\n",
    "    idade = int(input(\"Digite sua idade: \"))\n",
    "    if idade < 0 or idade > 150:\n",
    "        print(\"Idade invalida!\", idade)\n",
    "    else:\n",
    "        print(\"Idade valida!\", idade)\n",
    "        break\n",
    "\n",
    "while True:\n",
    "    salario = float(input(\"Digite seu salario: \"))\n",
    "    if salario < 0:\n",
    "        print(\"Salario invalido!\", salario, \"menor que ZERO!\")\n",
    "    else:\n",
    "        print(\"Salario valido!\", salario)\n",
    "        break\n",
    "        \n",
    "while True:\n",
    "    sexo = input(\"Digite seu sexo: \")\n",
    "    if sexo != 'f' and sexo != 'm':\n",
    "        print(\"Sexo Invalido!\", sexo)\n",
    "    else:\n",
    "        print(\"Sexo valido!\", sexo)\n",
    "        break\n",
    "\n",
    "while True: \n",
    "    estadoCivil = input(\"Digite seu estado civil: \")\n",
    "    if estadoCivil != 's' and estadoCivil != 'c' and estadoCivil != 'v' and estadoCivil != 'd':\n",
    "        print(\"Estado civil invalido!\", estadoCivil)\n",
    "    else:\n",
    "        print(\"Estado civil valido!\", estadoCivil)\n",
    "        break\n"
   ]
  },
  {
   "cell_type": "markdown",
   "metadata": {},
   "source": [
    "#### 14. Faça um programa que leia 5 números e informe o maior número."
   ]
  },
  {
   "cell_type": "code",
   "execution_count": 16,
   "metadata": {},
   "outputs": [
    {
     "name": "stdout",
     "output_type": "stream",
     "text": [
      "Digite um numero1\n",
      "Digite um numero5566\n",
      "Digite um numero43435\n",
      "Digite um numero756785686787\n",
      "Digite um numero3\n",
      "O maior número é 756785686787\n"
     ]
    }
   ],
   "source": [
    "lista = []\n",
    "\n",
    "while True:\n",
    "    item = int(input(\"Digite um numero\"))\n",
    "    lista.append(item)\n",
    "    if (len(lista) == 5):\n",
    "        break\n",
    "\n",
    "print(\"O maior número é\", max(lista))"
   ]
  },
  {
   "cell_type": "markdown",
   "metadata": {},
   "source": [
    "#### 15. Faça um programa que leia 5 números e informe a soma e a média dos números. "
   ]
  },
  {
   "cell_type": "code",
   "execution_count": 17,
   "metadata": {},
   "outputs": [
    {
     "name": "stdout",
     "output_type": "stream",
     "text": [
      "Digite um numero12\n",
      "Digite um numero12\n",
      "Digite um numero3\n",
      "Digite um numero55\n",
      "Digite um numero676\n",
      "A soma dos números é 758\n",
      "A média é 151.6\n"
     ]
    }
   ],
   "source": [
    "lista = []\n",
    "\n",
    "while True:\n",
    "    item = int(input(\"Digite um numero\"))\n",
    "    lista.append(item)\n",
    "    if (len(lista) == 5):\n",
    "        break\n",
    "    \n",
    "soma = sum(lista)\n",
    "media = soma/len(lista)\n",
    "\n",
    "print(\"A soma dos números é\", soma)\n",
    "print(\"A média é\", media)"
   ]
  },
  {
   "cell_type": "markdown",
   "metadata": {},
   "source": [
    "#### 16. Faça um programa que imprima na tela apenas os números ímpares entre 1 e 50."
   ]
  },
  {
   "cell_type": "code",
   "execution_count": 18,
   "metadata": {},
   "outputs": [
    {
     "name": "stdout",
     "output_type": "stream",
     "text": [
      "1\n",
      "3\n",
      "5\n",
      "7\n",
      "9\n",
      "11\n",
      "13\n",
      "15\n",
      "17\n",
      "19\n",
      "21\n",
      "23\n",
      "25\n",
      "27\n",
      "29\n",
      "31\n",
      "33\n",
      "35\n",
      "37\n",
      "39\n",
      "41\n",
      "43\n",
      "45\n",
      "47\n",
      "49\n"
     ]
    }
   ],
   "source": [
    "for i in range(1,50):\n",
    "    if i % 2 != 0:\n",
    "        print(i)\n",
    "        i += 1"
   ]
  },
  {
   "cell_type": "markdown",
   "metadata": {},
   "source": [
    "#### 17. Desenvolva um gerador de tabuada, capaz de gerar a tabuada de qualquer número inteiro entre 1 a 10. O usuário deve informar de qual numero ele deseja ver a tabuada. A saída deve ser conforme o exemplo abaixo: Tabuada de 5: 5 X 1 = 5 5 X 2 = 10 ... 5 X 10 = 50 "
   ]
  },
  {
   "cell_type": "code",
   "execution_count": 19,
   "metadata": {},
   "outputs": [
    {
     "name": "stdout",
     "output_type": "stream",
     "text": [
      "Digite um numero: 1\n",
      "1 x 1 = 1\n",
      "1 x 2 = 2\n",
      "1 x 3 = 3\n",
      "1 x 4 = 4\n",
      "1 x 5 = 5\n",
      "1 x 6 = 6\n",
      "1 x 7 = 7\n",
      "1 x 8 = 8\n",
      "1 x 9 = 9\n",
      "1 x 10 = 10\n"
     ]
    }
   ],
   "source": [
    "numero = int(input(\"Digite um numero: \"))\n",
    "fator = 1\n",
    "\n",
    "while(fator <= 10):\n",
    "    produto = numero * fator\n",
    "    print(numero, \"x\", fator, \"=\", produto)\n",
    "    fator += 1"
   ]
  },
  {
   "cell_type": "markdown",
   "metadata": {},
   "source": [
    "#### 18. A série de Fibonacci é formada pela seqüência 1,1,2,3,5,8,13,21,34,55,... Faça um programa capaz de gerar a série até o n−ésimo termo. "
   ]
  },
  {
   "cell_type": "code",
   "execution_count": 20,
   "metadata": {},
   "outputs": [
    {
     "name": "stdout",
     "output_type": "stream",
     "text": [
      "Digite o numero de termos: 99\n",
      "1\n",
      "1\n",
      "2\n",
      "3\n",
      "5\n",
      "8\n",
      "13\n",
      "21\n",
      "34\n",
      "55\n",
      "89\n",
      "144\n",
      "233\n",
      "377\n",
      "610\n",
      "987\n",
      "1597\n",
      "2584\n",
      "4181\n",
      "6765\n",
      "10946\n",
      "17711\n",
      "28657\n",
      "46368\n",
      "75025\n",
      "121393\n",
      "196418\n",
      "317811\n",
      "514229\n",
      "832040\n",
      "1346269\n",
      "2178309\n",
      "3524578\n",
      "5702887\n",
      "9227465\n",
      "14930352\n",
      "24157817\n",
      "39088169\n",
      "63245986\n",
      "102334155\n",
      "165580141\n",
      "267914296\n",
      "433494437\n",
      "701408733\n",
      "1134903170\n",
      "1836311903\n",
      "2971215073\n",
      "4807526976\n",
      "7778742049\n",
      "12586269025\n",
      "20365011074\n",
      "32951280099\n",
      "53316291173\n",
      "86267571272\n",
      "139583862445\n",
      "225851433717\n",
      "365435296162\n",
      "591286729879\n",
      "956722026041\n",
      "1548008755920\n",
      "2504730781961\n",
      "4052739537881\n",
      "6557470319842\n",
      "10610209857723\n",
      "17167680177565\n",
      "27777890035288\n",
      "44945570212853\n",
      "72723460248141\n",
      "117669030460994\n",
      "190392490709135\n",
      "308061521170129\n",
      "498454011879264\n",
      "806515533049393\n",
      "1304969544928657\n",
      "2111485077978050\n",
      "3416454622906707\n",
      "5527939700884757\n",
      "8944394323791464\n",
      "14472334024676221\n",
      "23416728348467685\n",
      "37889062373143906\n",
      "61305790721611591\n",
      "99194853094755497\n",
      "160500643816367088\n",
      "259695496911122585\n",
      "420196140727489673\n",
      "679891637638612258\n",
      "1100087778366101931\n",
      "1779979416004714189\n",
      "2880067194370816120\n",
      "4660046610375530309\n",
      "7540113804746346429\n",
      "12200160415121876738\n",
      "19740274219868223167\n",
      "31940434634990099905\n",
      "51680708854858323072\n",
      "83621143489848422977\n",
      "135301852344706746049\n",
      "218922995834555169026\n"
     ]
    }
   ],
   "source": [
    "while True:\n",
    "    termo = int(input(\"Digite o numero de termos: \"))\n",
    "    if (termo <= 0):\n",
    "        print(\"Apenas numeros positivos!\")\n",
    "        continue\n",
    "    else: \n",
    "        break\n",
    "\n",
    "primeiro = 1\n",
    "print (primeiro)\n",
    "segundo = 1\n",
    "for i in range(1, termo):\n",
    "    print(segundo)\n",
    "    terceiro = primeiro + segundo\n",
    "    primeiro = segundo\n",
    "    segundo = terceiro"
   ]
  },
  {
   "cell_type": "markdown",
   "metadata": {},
   "source": [
    "#### 19. Faça um programa que calcule o fatorial de um número inteiro fornecido pelo usuário. Ex.: 5!=5.4.3.2.1=120 "
   ]
  },
  {
   "cell_type": "code",
   "execution_count": 21,
   "metadata": {},
   "outputs": [
    {
     "name": "stdout",
     "output_type": "stream",
     "text": [
      "Digite um numero: 5\n",
      "5!= [5, 4, 3, 2, 1] = 120\n"
     ]
    }
   ],
   "source": [
    "while True:\n",
    "    num = int(input(\"Digite um numero: \"))\n",
    "    if (num <= 0):\n",
    "        print (\"O número deve ser positivo!\")\n",
    "    else: \n",
    "        break\n",
    "\n",
    "fatorial = 1\n",
    "for i in reversed(range(1, num + 1)):\n",
    "    fatorial *= i\n",
    "\n",
    "rep = []\n",
    "for x in reversed(range(1, num + 1)):\n",
    "    rep.append(x)\n",
    "\n",
    "print(\"%.0f!=\" %num, rep[::],\"=\", fatorial)"
   ]
  },
  {
   "cell_type": "markdown",
   "metadata": {},
   "source": [
    "#### 20. O Sr. Manoel Joaquim possui uma grande loja de artigos de RS 1,99, com cerca de 10 caixas. Para agilizar o cálculo de quanto cada cliente deve pagar ele desenvolveu um tabela que contém o número de itens que o cliente comprou e ao lado o valor da conta. Desta forma a atendente do caixa precisa apenas contar quantos itens o cliente está levando e olhar na tabela de preços. Você foi contratado para desenvolver o programa que monta esta tabela de preços, que conterá os preços de 1 até 50 produtos, conforme o exemplo abaixo:  Lojas Quase Dois - Tabela de preços 1 - RS 1.99 2 - RS 3.98 ... 50 - RS 99.50"
   ]
  },
  {
   "cell_type": "code",
   "execution_count": 22,
   "metadata": {},
   "outputs": [
    {
     "name": "stdout",
     "output_type": "stream",
     "text": [
      "Tabelas de preços\n",
      "1 - R$ 1.99\n",
      "2 - R$ 3.98\n",
      "3 - R$ 5.97\n",
      "4 - R$ 7.96\n",
      "5 - R$ 9.95\n",
      "6 - R$ 11.94\n",
      "7 - R$ 13.93\n",
      "8 - R$ 15.92\n",
      "9 - R$ 17.91\n",
      "10 - R$ 19.9\n",
      "11 - R$ 21.89\n",
      "12 - R$ 23.88\n",
      "13 - R$ 25.87\n",
      "14 - R$ 27.86\n",
      "15 - R$ 29.85\n",
      "16 - R$ 31.84\n",
      "17 - R$ 33.83\n",
      "18 - R$ 35.82\n",
      "19 - R$ 37.81\n",
      "20 - R$ 39.8\n",
      "21 - R$ 41.79\n",
      "22 - R$ 43.78\n",
      "23 - R$ 45.77\n",
      "24 - R$ 47.76\n",
      "25 - R$ 49.75\n",
      "26 - R$ 51.74\n",
      "27 - R$ 53.73\n",
      "28 - R$ 55.72\n",
      "29 - R$ 57.71\n",
      "30 - R$ 59.7\n",
      "31 - R$ 61.69\n",
      "32 - R$ 63.68\n",
      "33 - R$ 65.67\n",
      "34 - R$ 67.66\n",
      "35 - R$ 69.65\n",
      "36 - R$ 71.64\n",
      "37 - R$ 73.63\n",
      "38 - R$ 75.62\n",
      "39 - R$ 77.61\n",
      "40 - R$ 79.6\n",
      "41 - R$ 81.59\n",
      "42 - R$ 83.58\n",
      "43 - R$ 85.57\n",
      "44 - R$ 87.56\n",
      "45 - R$ 89.55\n",
      "46 - R$ 91.54\n",
      "47 - R$ 93.53\n",
      "48 - R$ 95.52\n",
      "49 - R$ 97.51\n",
      "50 - R$ 99.5\n"
     ]
    }
   ],
   "source": [
    "num = 1\n",
    "valor = 1.99\n",
    "\n",
    "print(\"Tabelas de preços\")\n",
    "\n",
    "for x in range(1,51):\n",
    "    print(x, \"- R$\", x*valor)\n",
    "    x += 1"
   ]
  },
  {
   "cell_type": "markdown",
   "metadata": {},
   "source": [
    "#### 21. O Sr. Manoel Joaquim acaba de adquirir uma panificadora e pretende implantar a metodologia da tabelinha, que já é um sucesso na sua loja de 1,99. Você foi contratado para desenvolver o programa que monta a tabela de preços de pães, de 1 até 50 pães, a partir do preço do pão informado pelo usuário, conforme o exemplo abaixo: Preço do pão: RS 0.18 Panificadora Pão de Ontem Tabela de preços 1 - RS 0.18 2 - RS 0.36 ... 50 - RS 9.00 "
   ]
  },
  {
   "cell_type": "code",
   "execution_count": 23,
   "metadata": {},
   "outputs": [
    {
     "name": "stdout",
     "output_type": "stream",
     "text": [
      "Tabelas de preços\n",
      "1 - R$ 0.18\n",
      "2 - R$ 0.36\n",
      "3 - R$ 0.54\n",
      "4 - R$ 0.72\n",
      "5 - R$ 0.8999999999999999\n",
      "6 - R$ 1.08\n",
      "7 - R$ 1.26\n",
      "8 - R$ 1.44\n",
      "9 - R$ 1.6199999999999999\n",
      "10 - R$ 1.7999999999999998\n",
      "11 - R$ 1.98\n",
      "12 - R$ 2.16\n",
      "13 - R$ 2.34\n",
      "14 - R$ 2.52\n",
      "15 - R$ 2.6999999999999997\n",
      "16 - R$ 2.88\n",
      "17 - R$ 3.06\n",
      "18 - R$ 3.2399999999999998\n",
      "19 - R$ 3.42\n",
      "20 - R$ 3.5999999999999996\n",
      "21 - R$ 3.78\n",
      "22 - R$ 3.96\n",
      "23 - R$ 4.14\n",
      "24 - R$ 4.32\n",
      "25 - R$ 4.5\n",
      "26 - R$ 4.68\n",
      "27 - R$ 4.859999999999999\n",
      "28 - R$ 5.04\n",
      "29 - R$ 5.22\n",
      "30 - R$ 5.3999999999999995\n",
      "31 - R$ 5.58\n",
      "32 - R$ 5.76\n",
      "33 - R$ 5.9399999999999995\n",
      "34 - R$ 6.12\n",
      "35 - R$ 6.3\n",
      "36 - R$ 6.4799999999999995\n",
      "37 - R$ 6.66\n",
      "38 - R$ 6.84\n",
      "39 - R$ 7.02\n",
      "40 - R$ 7.199999999999999\n",
      "41 - R$ 7.38\n",
      "42 - R$ 7.56\n",
      "43 - R$ 7.739999999999999\n",
      "44 - R$ 7.92\n",
      "45 - R$ 8.1\n",
      "46 - R$ 8.28\n",
      "47 - R$ 8.459999999999999\n",
      "48 - R$ 8.64\n",
      "49 - R$ 8.82\n",
      "50 - R$ 9.0\n"
     ]
    }
   ],
   "source": [
    "x = 1\n",
    "valor = 0.18\n",
    "\n",
    "print(\"Tabelas de preços\")\n",
    "\n",
    "for x in range(1,51):\n",
    "    print(x, \"- R$\", x*valor)\n",
    "    x += 1"
   ]
  },
  {
   "cell_type": "markdown",
   "metadata": {},
   "source": [
    "#### 22. O Sr. Manoel Joaquim expandiu seus negócios para além dos negócios de 1,99 e agora possui uma loja de conveniências. Faça um programa que implemente uma caixa registradora rudimentar. O programa deverá receber um número desconhecido de valores referentes aos preços das mercadorias. Um valor zero deve ser informado pelo operador para indicar o final da compra. O programa deve então mostrar o total da compra e perguntar o valor em dinheiro que o cliente forneceu, para então calcular e mostrar o valor do troco. Após esta operação, o programa deverá voltar ao ponto inicial, para registrar a próxima compra. A saída deve ser conforme o exemplo abaixo: Lojas Tabajara  Produto 1: RS 2.20 Produto 2: RS 5.80 Produto 3: RS 0 Total: RS 9.00 Dinheiro: RS 20.00 Troco: RS 11.00 ..."
   ]
  },
  {
   "cell_type": "code",
   "execution_count": 24,
   "metadata": {},
   "outputs": [
    {
     "name": "stdout",
     "output_type": "stream",
     "text": [
      "Valor da mercadoria: R$10\n",
      "1º mercadoria - Valor: R$10.00\n",
      "Valor da mercadoria: R$20\n",
      "1º mercadoria - Valor: R$20.00\n",
      "Valor da mercadoria: R$33\n",
      "1º mercadoria - Valor: R$33.00\n",
      "Valor da mercadoria: R$5555\n",
      "1º mercadoria - Valor: R$5555.00\n",
      "Valor da mercadoria: R$0\n",
      "Valor total: 5618.00\n"
     ]
    }
   ],
   "source": [
    "qntMercadoria = 1\n",
    "valor = 0\n",
    "valorTotal = 0\n",
    "\n",
    "while True:\n",
    "    valor = float(input(\"Valor da mercadoria: R$\"))\n",
    "    valorTotal = valorTotal + valor\n",
    "    if valor < 0:\n",
    "        print(\"Apenas valores positivos!\")\n",
    "        continue\n",
    "    elif valor == 0:\n",
    "        print(\"Valor total: %.2f\" %valorTotal)\n",
    "        break\n",
    "    print(\"%.0fº mercadoria - Valor: R$%.2f\" %(qntMercadoria, valor))"
   ]
  },
  {
   "cell_type": "markdown",
   "metadata": {},
   "source": [
    "#### 23. Foi feita uma estatística em cinco cidades brasileiras para coletar dados sobre acidentes de trânsito. Foram obtidos os seguintes dados: - Código da cidade; - Número de veículos de passeio (em 1999); - Número de acidentes de trânsito com vítimas (em 1999). Deseja-se saber: - Qual o maior e menor índice de acidentes de transito e a que cidade pertence; - Qual a média de veículos nas cinco cidades juntas; - Qual a média de acidentes de trânsito nas cidades com menos de 2.000 veículos de passeio. \n",
    " "
   ]
  },
  {
   "cell_type": "code",
   "execution_count": 25,
   "metadata": {},
   "outputs": [
    {
     "name": "stdout",
     "output_type": "stream",
     "text": [
      "Informe o código da cidade 1: 1\n",
      "Informe o número de veiculos de passeio (em 1999) da cidade 1: 222\n",
      "Informe a quantidade de acidentes (em 1999) da cidade 1: 111\n",
      "A cidade com maior indice de acidentes é a cidade: 1 com 0.5 %\n",
      "A cidade com menor indice de acidentes é a cidade: 1 com 0.5 %\n",
      "A media de veiculos nas cidades é: 44.4 %\n",
      "A media de acidentes de transito nas cidades com menos de 2.000 veículos é: 111.0 %\n"
     ]
    }
   ],
   "source": [
    "somaVeiculos = 0\n",
    "somaAcidentes = 0\n",
    "somaAcidentesMenos2Mil = 0\n",
    "totalCidadesMenos2Mil = 0\n",
    "cidade = 1\n",
    "\n",
    "for i in range(0, 1):\n",
    "    codigo = input(\"Informe o código da cidade %d: \" % cidade)\n",
    "    veiculos = int(input(\"Informe o número de veiculos de passeio (em 1999) da cidade %d: \" % cidade))\n",
    "    acidentes = int(input(\"Informe a quantidade de acidentes (em 1999) da cidade %d: \" % cidade))\n",
    "    cidade += 1\n",
    "    \n",
    "    indiceAcidentes = acidentes / (veiculos)\n",
    "    somaVeiculos += veiculos\n",
    "    \n",
    "    if ('maisAcidentes' not in vars()) or (indiceAcidentes > maisAcidentes):\n",
    "        maisAcidentes = indiceAcidentes\n",
    "        codigoMaisAcidentes = codigo\n",
    "    if ('menosAcidentes' not in vars()) or (indiceAcidentes < menosAcidentes):\n",
    "        menosAcidentes = indiceAcidentes\n",
    "        codigoMenosAcidentes = codigo\n",
    "\n",
    "    if (veiculos < 2000):\n",
    "        somaAcidentesMenos2Mil += acidentes\n",
    "        totalCidadesMenos2Mil += 1\n",
    "\n",
    "print (\"A cidade com maior indice de acidentes é a cidade:\" ,codigoMaisAcidentes, \"com\", maisAcidentes, \"%\")\n",
    "print (\"A cidade com menor indice de acidentes é a cidade:\" ,codigoMenosAcidentes, \"com\", menosAcidentes,\"%\")\n",
    "print (\"A media de veiculos nas cidades é:\" , somaVeiculos / 5.0 ,\"%\")\n",
    "print (\"A media de acidentes de transito nas cidades com menos de 2.000 veículos é:\", somaAcidentesMenos2Mil / totalCidadesMenos2Mil,\"%\")"
   ]
  },
  {
   "cell_type": "markdown",
   "metadata": {},
   "source": [
    "#### 24. Faça um programa que receba o valor de uma dívida e mostre uma tabela com os seguintes dados: valor da dívida, valor dos juros, quantidade de parcelas e valor da parcela. Os juros e a quantidade de parcelas seguem a tabela abaixo: Quantidade de Parcelas  % de Juros sobre o valor inicial da dívida  1       0 3       10 6       15 9       20 12      25   Exemplo de saída do programa: Valor da Dívida Valor dos Juros Quantidade de Parcelas  Valor da Parcela RS 1.000,00     0               1                    RS  1.000,00 RS 1.100,00     100             3                       RS    366,00 RS 1.150,00     150             6                       RS    191,67 "
   ]
  },
  {
   "cell_type": "code",
   "execution_count": 26,
   "metadata": {},
   "outputs": [
    {
     "name": "stdout",
     "output_type": "stream",
     "text": [
      "Digite o valor da divida: 1200\n",
      "Valor da divida - Valor dos Juros - Quantidade de parcelas - Valor da parcela\n",
      "1200              0.00              1                        1200.00          \n",
      "1320              120.00            3                        440.00           \n",
      "1380              180.00            6                        230.00           \n",
      "1440              240.00            9                        160.00           \n",
      "1500              300.00            12                       125.00           \n"
     ]
    }
   ],
   "source": [
    "divida = float(input(\"Digite o valor da divida: \"))\n",
    "guardaDivida = divida\n",
    "valorJuros = 0\n",
    "parcelasInicial = 1\n",
    "valorParcela = divida\n",
    "juros = 0\n",
    "\n",
    "print(\"Valor da divida - Valor dos Juros - Quantidade de parcelas - Valor da parcela\")\n",
    "print(\"%-17.f\" %divida, \"%-17.2f\" %valorJuros, \"%-24d\" %parcelasInicial, \"%-17.2f\" %valorParcela)\n",
    "\n",
    "for parcelas in range(3, 13, 3):\n",
    "    if (parcelas == 3):\n",
    "        juros = 10\n",
    "    else:\n",
    "        juros += 5\n",
    "\n",
    "    valorJuros = (divida * (juros / 100.0))\n",
    "    valorDivida = divida + valorJuros\n",
    "    valorParcela = valorDivida / float(parcelas)\n",
    "    print(\"%-17.f\" %valorDivida, \"%-17.2f\" %valorJuros, \"%-24d\" %parcelas, \"%-17.2f\" %valorParcela)"
   ]
  },
  {
   "cell_type": "markdown",
   "metadata": {},
   "source": [
    "#### 25. Faça um programa que mostre os n termos da Série a seguir:   S = 1/1 + 2/3 + 3/5 + 4/7 + 5/9 + ... + n/m.  Imprima no final a soma da série. "
   ]
  },
  {
   "cell_type": "code",
   "execution_count": 27,
   "metadata": {},
   "outputs": [
    {
     "name": "stdout",
     "output_type": "stream",
     "text": [
      "Digite o numero de termos5\n",
      "S = 1 / 1\n",
      "S = 2 / 3\n",
      "S = 3 / 5\n",
      "S = 4 / 7\n",
      "S = 5 / 9\n",
      "Soma da série é:  3.393650793650793\n"
     ]
    }
   ],
   "source": [
    "termos = int(input(\"Digite o numero de termos\"))\n",
    "soma = 0.0\n",
    "denominador = 1\n",
    "\n",
    "for i in range(1, termos + 1):\n",
    "    soma += i / denominador\n",
    "    print (\"S =\", i, \"/\", denominador)\n",
    "    denominador += 2\n",
    "print (\"Soma da série é: \", soma)"
   ]
  },
  {
   "cell_type": "code",
   "execution_count": null,
   "metadata": {},
   "outputs": [],
   "source": []
  }
 ],
 "metadata": {
  "kernelspec": {
   "display_name": "Python 3",
   "language": "python",
   "name": "python3"
  },
  "language_info": {
   "codemirror_mode": {
    "name": "ipython",
    "version": 3
   },
   "file_extension": ".py",
   "mimetype": "text/x-python",
   "name": "python",
   "nbconvert_exporter": "python",
   "pygments_lexer": "ipython3",
   "version": "3.6.7"
  }
 },
 "nbformat": 4,
 "nbformat_minor": 2
}
